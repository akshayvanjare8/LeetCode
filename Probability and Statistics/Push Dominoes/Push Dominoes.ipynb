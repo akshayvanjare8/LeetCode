{
 "cells": [
  {
   "cell_type": "code",
   "execution_count": 1,
   "id": "b6228c6b",
   "metadata": {},
   "outputs": [],
   "source": [
    "class Solution:\n",
    "    def pushDominoes(self, dominoes: str) -> str:\n",
    "        dominoes = 'L' + dominoes + 'R'\n",
    "        ret = ''\n",
    "\n",
    "        lastPush = 0\n",
    "        for curPush in range(1, len(dominoes)):\n",
    "            if dominoes[curPush] == '.':\n",
    "                continue\n",
    "\n",
    "            if lastPush:\n",
    "                ret += dominoes[lastPush]\n",
    "\n",
    "            between = curPush - lastPush - 1\n",
    "            if dominoes[lastPush] == dominoes[curPush]:\n",
    "                ret += dominoes[lastPush] * between\n",
    "            elif dominoes[lastPush] == 'L' and dominoes[curPush] == 'R':\n",
    "                ret += '.' * between\n",
    "            else:\n",
    "                ret += 'R' * (between // 2) + '.' * (between % 2) + 'L' * (between // 2)\n",
    "            lastPush = curPush\n",
    "\n",
    "        return ret"
   ]
  }
 ],
 "metadata": {
  "kernelspec": {
   "display_name": "Python 3 (ipykernel)",
   "language": "python",
   "name": "python3"
  },
  "language_info": {
   "codemirror_mode": {
    "name": "ipython",
    "version": 3
   },
   "file_extension": ".py",
   "mimetype": "text/x-python",
   "name": "python",
   "nbconvert_exporter": "python",
   "pygments_lexer": "ipython3",
   "version": "3.10.0"
  }
 },
 "nbformat": 4,
 "nbformat_minor": 5
}
