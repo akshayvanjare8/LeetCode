{
 "cells": [
  {
   "cell_type": "code",
   "execution_count": null,
   "id": "e9e4e50a",
   "metadata": {},
   "outputs": [],
   "source": [
    "class Solution(object):\n",
    "    memo = {}\n",
    "    def soupServings(self, N):\n",
    "        if N > 4800: return 1\n",
    "        def f(a, b):\n",
    "            if (a, b) in self.memo: return self.memo[a, b]\n",
    "            if a <= 0 and b <= 0: return 0.5\n",
    "            if a <= 0: return 1\n",
    "            if b <= 0: return 0\n",
    "            self.memo[(a, b)] = 0.25 * (f(a - 4, b) + f(a - 3, b - 1) + f(a - 2, b - 2) + f(a - 1, b - 3))\n",
    "            return self.memo[(a, b)]\n",
    "        N = math.ceil(N / 25.0)\n",
    "        return f(N, N)"
   ]
  }
 ],
 "metadata": {
  "kernelspec": {
   "display_name": "Python 3 (ipykernel)",
   "language": "python",
   "name": "python3"
  },
  "language_info": {
   "codemirror_mode": {
    "name": "ipython",
    "version": 3
   },
   "file_extension": ".py",
   "mimetype": "text/x-python",
   "name": "python",
   "nbconvert_exporter": "python",
   "pygments_lexer": "ipython3",
   "version": "3.10.0"
  }
 },
 "nbformat": 4,
 "nbformat_minor": 5
}
