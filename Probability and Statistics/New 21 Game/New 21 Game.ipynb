{
 "cells": [
  {
   "cell_type": "code",
   "execution_count": null,
   "id": "b6dcf916",
   "metadata": {},
   "outputs": [],
   "source": [
    "class Solution:\n",
    "    def new21Game(self, n: int, k: int, maxPts: int) -> float:\n",
    "        if k == 0 or n >= k + maxPts: return 1\n",
    "        dp = [1.0] + [0.0] * n\n",
    "        Wsum = 1.0\n",
    "        for i in range(1, n + 1):\n",
    "            dp[i] = Wsum / maxPts\n",
    "            if i < k: Wsum += dp[i]\n",
    "            if i - maxPts >= 0: Wsum -= dp[i - maxPts]\n",
    "        return sum(dp[k:])"
   ]
  }
 ],
 "metadata": {
  "kernelspec": {
   "display_name": "Python 3 (ipykernel)",
   "language": "python",
   "name": "python3"
  },
  "language_info": {
   "codemirror_mode": {
    "name": "ipython",
    "version": 3
   },
   "file_extension": ".py",
   "mimetype": "text/x-python",
   "name": "python",
   "nbconvert_exporter": "python",
   "pygments_lexer": "ipython3",
   "version": "3.10.0"
  }
 },
 "nbformat": 4,
 "nbformat_minor": 5
}
