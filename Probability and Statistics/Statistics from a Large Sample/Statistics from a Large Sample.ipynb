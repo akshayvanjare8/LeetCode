{
 "cells": [
  {
   "cell_type": "code",
   "execution_count": null,
   "id": "31972344",
   "metadata": {},
   "outputs": [],
   "source": [
    "class Solution:\n",
    "    def sampleStats(self, count: List[int]) -> List[float]:\n",
    "        n = sum(count)\n",
    "        minimum = next(i for i in range(256) if count[i]) * 1.0\n",
    "        maximum = next(i for i in range(255, -1, -1) if count[i]) * 1.0\n",
    "        mean = sum(i * v for i, v in enumerate(count)) * 1.0 / n\n",
    "        mode = count.index(max(count)) * 1.0\n",
    "        for i in range(255):\n",
    "            count[i + 1] += count[i]\n",
    "        median1 = bisect.bisect(count, (n - 1) / 2)\n",
    "        median2 = bisect.bisect(count, n / 2)\n",
    "        median = (median1 + median2) / 2.0\n",
    "        return [minimum, maximum, mean, median, mode]"
   ]
  }
 ],
 "metadata": {
  "kernelspec": {
   "display_name": "Python 3 (ipykernel)",
   "language": "python",
   "name": "python3"
  },
  "language_info": {
   "codemirror_mode": {
    "name": "ipython",
    "version": 3
   },
   "file_extension": ".py",
   "mimetype": "text/x-python",
   "name": "python",
   "nbconvert_exporter": "python",
   "pygments_lexer": "ipython3",
   "version": "3.10.0"
  }
 },
 "nbformat": 4,
 "nbformat_minor": 5
}
