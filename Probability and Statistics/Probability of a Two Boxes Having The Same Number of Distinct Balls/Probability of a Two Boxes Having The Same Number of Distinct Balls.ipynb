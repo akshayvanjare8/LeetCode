{
 "cells": [
  {
   "cell_type": "code",
   "execution_count": null,
   "id": "8fccbb87",
   "metadata": {},
   "outputs": [],
   "source": [
    "class Solution:\n",
    "    def getProbability(self, balls: List[int]) -> float:\n",
    "        M = len(balls)\n",
    "        N = sum(balls)\n",
    "        F = [math.factorial(n) for n in range(N // 2 + 1)]\n",
    "\n",
    "        s1 = [0] * M\n",
    "        s2 = [0] * M\n",
    "\n",
    "        def find(i):\n",
    "            if i == M:\n",
    "                if sum(s1) == sum(s2) and len([n for n in s1 if n]) == len([n for n in s2 if n]):\n",
    "                    base1 = F[N // 2] // math.prod(F[n] for n in s1)\n",
    "                    base2 = F[N // 2] // math.prod(F[n] for n in s2)\n",
    "                    return base1 * base2\n",
    "                return 0\n",
    "\n",
    "            s = 0\n",
    "            for n in range(balls[i]+1):\n",
    "                s1[i] = n\n",
    "                s2[i] = balls[i] - n\n",
    "                s += find(i+1)\n",
    "            return s\n",
    "\n",
    "        base = math.factorial(N) // math.prod(math.factorial(n) for n in balls)\n",
    "        return find(0) / base"
   ]
  }
 ],
 "metadata": {
  "kernelspec": {
   "display_name": "Python 3 (ipykernel)",
   "language": "python",
   "name": "python3"
  },
  "language_info": {
   "codemirror_mode": {
    "name": "ipython",
    "version": 3
   },
   "file_extension": ".py",
   "mimetype": "text/x-python",
   "name": "python",
   "nbconvert_exporter": "python",
   "pygments_lexer": "ipython3",
   "version": "3.10.0"
  }
 },
 "nbformat": 4,
 "nbformat_minor": 5
}
