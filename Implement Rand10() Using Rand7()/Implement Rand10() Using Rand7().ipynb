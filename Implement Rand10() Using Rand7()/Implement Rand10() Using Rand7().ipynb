{
 "cells": [
  {
   "cell_type": "code",
   "execution_count": null,
   "id": "a2c86265",
   "metadata": {},
   "outputs": [],
   "source": [
    "# The rand7() API is already defined for you.\n",
    "# def rand7():\n",
    "# @return a random integer in the range 1 to 7\n",
    "\n",
    "class Solution:\n",
    "    def rand10(self):\n",
    "        \"\"\"\n",
    "        :rtype: int\n",
    "        \"\"\"\n",
    "        rand40 = 40\n",
    "        while rand40 >= 40:\n",
    "            rand40 = (rand7() - 1) * 7 + rand7() - 1\n",
    "        return rand40 % 10 + 1"
   ]
  }
 ],
 "metadata": {
  "kernelspec": {
   "display_name": "Python 3 (ipykernel)",
   "language": "python",
   "name": "python3"
  },
  "language_info": {
   "codemirror_mode": {
    "name": "ipython",
    "version": 3
   },
   "file_extension": ".py",
   "mimetype": "text/x-python",
   "name": "python",
   "nbconvert_exporter": "python",
   "pygments_lexer": "ipython3",
   "version": "3.10.0"
  }
 },
 "nbformat": 4,
 "nbformat_minor": 5
}
